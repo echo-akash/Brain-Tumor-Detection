{
 "cells": [
  {
   "cell_type": "code",
   "execution_count": 4,
   "metadata": {},
   "outputs": [
    {
     "name": "stdout",
     "output_type": "stream",
     "text": [
      "[[1 1 1 ... 1 1 1]]\n",
      "[[0 0 0 ... 0 0 0]]\n",
      "[[16 16 16 ... 16 16 16]]\n",
      "[[3 3 3 ... 1 2 2]]\n",
      "[[0 0 0 ... 0 0 0]]\n",
      "[[7 7 7 ... 5 5 5]]\n",
      "[[10 10 10 ... 10 10 10]]\n",
      "[[0 0 0 ... 0 0 0]]\n",
      "[[252 254 255 ... 255 255 255]]\n",
      "[[0 0 0 ... 0 0 0]]\n",
      "[[0 0 0 ... 0 0 0]]\n",
      "[[5 6 4 ... 8 7 7]]\n",
      "[[167   0  23 ...  22  22  22]]\n",
      "[[16 16 16 ... 49 49 74]]\n",
      "[[0 0 0 ... 0 0 0]]\n",
      "[[0 0 0 ... 0 0 0]]\n",
      "[[0 0 0 ... 0 0 0]]\n",
      "[[16 16 16 ... 16 14 14]]\n",
      "[[ 0  6  6 ... 10 10 10]]\n",
      "[[0 0 0 ... 0 0 0]]\n",
      "[[15 16 16 ... 15 15 15]]\n",
      "[[10 10 10 ... 10 10 10]]\n",
      "[[29 18 24 ... 24 24 24]]\n",
      "[[6 6 6 ... 6 5 5]]\n",
      "[[254 251 255 ...   2   2   2]]\n",
      "[[9 9 9 ... 9 8 9]]\n",
      "[[255 255 255 ... 255 255 255]]\n",
      "[[9 9 9 ... 9 8 9]]\n",
      "[[255   5  10 ...   8   8   8]]\n",
      "[[ 0  3  7 ... 13 13 12]]\n",
      "[[0 0 0 ... 1 1 0]]\n",
      "[[11 11 11 ... 12 12 12]]\n",
      "[[2 3 3 ... 2 2 3]]\n"
     ]
    }
   ],
   "source": [
    "import numpy as np\n",
    "import cv2\n",
    "import os\n",
    "\n",
    "IMG_DIR = 'csv-maker/no-test/'\n",
    "\n",
    "for img in os.listdir(IMG_DIR):\n",
    "        img_array = cv2.imread(os.path.join(IMG_DIR,img), cv2.IMREAD_GRAYSCALE)\n",
    "\n",
    "        img_array = (img_array.flatten())\n",
    "\n",
    "        img_array  = img_array.reshape(-1, 1).T\n",
    "\n",
    "        print(img_array)\n",
    "\n",
    "        with open('no-test.csv', 'ab') as f:\n",
    "\n",
    "            np.savetxt(f, img_array, delimiter=\",\")"
   ]
  },
  {
   "cell_type": "code",
   "execution_count": null,
   "metadata": {},
   "outputs": [],
   "source": []
  }
 ],
 "metadata": {
  "kernelspec": {
   "display_name": "Python 3",
   "language": "python",
   "name": "python3"
  },
  "language_info": {
   "codemirror_mode": {
    "name": "ipython",
    "version": 3
   },
   "file_extension": ".py",
   "mimetype": "text/x-python",
   "name": "python",
   "nbconvert_exporter": "python",
   "pygments_lexer": "ipython3",
   "version": "3.6.8"
  }
 },
 "nbformat": 4,
 "nbformat_minor": 2
}
